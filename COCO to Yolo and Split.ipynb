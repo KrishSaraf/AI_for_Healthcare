{
 "cells": [
  {
   "cell_type": "code",
   "execution_count": 9,
   "id": "48725b80-16a5-42fa-bad6-fd030d6365d2",
   "metadata": {},
   "outputs": [
    {
     "name": "stderr",
     "output_type": "stream",
     "text": [
      "<frozen runpy>:128: RuntimeWarning: 'COCO_merger.merge' found in sys.modules after import of package 'COCO_merger', but prior to execution of 'COCO_merger.merge'; this may result in unpredictable behaviour\n",
      "Traceback (most recent call last):\n",
      "  File \"<frozen runpy>\", line 198, in _run_module_as_main\n",
      "  File \"<frozen runpy>\", line 88, in _run_code\n",
      "  File \"C:\\Users\\iGauze\\anaconda3\\envs\\yolov9\\Lib\\site-packages\\COCO_merger\\merge.py\", line 190, in <module>\n",
      "    run()\n",
      "  File \"C:\\Users\\iGauze\\anaconda3\\envs\\yolov9\\Lib\\site-packages\\COCO_merger\\merge.py\", line 185, in run\n",
      "    combine(args.src[0], args.src[1], args.out)\n",
      "  File \"C:\\Users\\iGauze\\anaconda3\\envs\\yolov9\\Lib\\site-packages\\COCO_merger\\merge.py\", line 45, in combine\n",
      "    with open(tt1) as json_file:\n",
      "         ^^^^^^^^^\n",
      "FileNotFoundError: [Errno 2] No such file or directory: 'C:\\\\Users\\\\iGauze\\\\Desktop\\\\Victor_Testing\\\\DATA\\\\Withhand\\\\ExtraHands\\\\annotations\\\\instances_default.json'\n"
     ]
    }
   ],
   "source": [
    "#Run to merge multiple COCO JSON Files from exports of CVAT.\n",
    "\n",
    "#After SRC, put your json files to combine\n",
    "#Output json put your dir where you want it to go, else it will end up in wherever this Py file is located\n",
    "\n",
    "!python -m COCO_merger.merge --src \\\n",
    "C:\\Users\\iGauze\\Desktop\\Victor_Testing\\DATA\\Withhand\\ExtraHands\\annotations\\instances_default.json \\\n",
    "C:\\Users\\iGauze\\Desktop\\Victor_Testing\\DATA\\Withhand\\ExtraHands\\annotations\\instances_default_1.json \\\n",
    "--out OUTPUT_JSON.json\n"
   ]
  },
  {
   "cell_type": "code",
   "execution_count": null,
   "id": "ac8b21a5-6b28-4920-9bef-780dfe2f7f42",
   "metadata": {},
   "outputs": [
    {
     "name": "stdin",
     "output_type": "stream",
     "text": [
      "Enter the directory to save the task:  C:\\Users\\iGauze\\Documents\n"
     ]
    },
    {
     "name": "stdout",
     "output_type": "stream",
     "text": [
      "Enter the directory that you want to save the task: loading annotations into memory...\n",
      "Done (t=0.24s)\n",
      "creating index...\n",
      "index created!\n",
      "\u001b[;36mCOCO categories\u001b[0m:\n",
      "['Hand', 'Gauze']\n",
      "\n"
     ]
    },
    {
     "name": "stdin",
     "output_type": "stream",
     "text": [
      "Enter the categories name you wish (split by ', '):  Hand, Gauze\n"
     ]
    },
    {
     "name": "stdout",
     "output_type": "stream",
     "text": [
      "Enter the categories name you wish(split: ', '): ['Hand', 'Gauze']\n",
      "The total number of the data: 9561\n",
      "\u001b[;36mIndex Correspond Table:\u001b[0m\n",
      "{'Hand': 0, 'Gauze': 1}\n",
      "\u001b[;32mCreating symbolic links...\u001b[0m\n",
      "\u001b[;33mAlready exist a directory in here, do you still want to use this directory save your task?\n"
     ]
    },
    {
     "name": "stdin",
     "output_type": "stream",
     "text": [
      "Already exist a directory in here, do you still want to use this directory save your task? (yes/no):  yes\n"
     ]
    }
   ],
   "source": [
    "import subprocess\n",
    "import threading\n",
    "import time\n",
    "\n",
    "# Function to read the output in real-time\n",
    "def read_output(process):\n",
    "    while True:\n",
    "        output = process.stdout.readline()\n",
    "        if output == '' and process.poll() is not None:\n",
    "            break\n",
    "        if output:\n",
    "            print(output.strip())\n",
    "            if \"Already exist a directory in here, do you still want to use this directory save your task?\" in output:\n",
    "                overwrite_input = input(\"Already exist a directory in here, do you still want to use this directory save your task? (yes/no): \")\n",
    "                process.stdin.write(overwrite_input + '\\n')\n",
    "                process.stdin.flush()\n",
    "\n",
    "# ADJUST PATHING TO JSON FILE AND IMAGES HERE\n",
    "\n",
    "# Define the command\n",
    "command = [\n",
    "    \"python\", \n",
    "    \"C:/Users/iGauze/coco2yolo/coco2yolo\",\n",
    "    \"-ann-path\", \"C:/Users/iGauze/Desktop/Victor_Testing/DATA/Withhand/ExtraHands/annotations/OUTPUT_JSON.json\",\n",
    "    \"-img-dir\", \"C:/Users/iGauze/Desktop/Victor_Testing/DATA/Withhand/ExtraHands/images\"\n",
    "]\n",
    "\n",
    "# Start the subprocess\n",
    "process = subprocess.Popen(command, stdin=subprocess.PIPE, stdout=subprocess.PIPE, stderr=subprocess.PIPE, text=True, bufsize=1, universal_newlines=True)\n",
    "\n",
    "# Start the thread to read the output\n",
    "output_thread = threading.Thread(target=read_output, args=(process,))\n",
    "output_thread.start()\n",
    "\n",
    "# Wait for a prompt and send input manually\n",
    "time.sleep(1)  # Adjust this delay as necessary based on when the script prompts for input\n",
    "\n",
    "# Enter the directory input\n",
    "directory_input = input(\"Enter the directory to save the task: \")\n",
    "process.stdin.write(directory_input + '\\n')\n",
    "process.stdin.flush()\n",
    "\n",
    "# Wait for the next prompt\n",
    "time.sleep(1)  # Adjust this delay as necessary\n",
    "\n",
    "# Enter the categories input\n",
    "categories_input = input(\"Enter the categories name you wish (split by ', '): \")\n",
    "process.stdin.write(categories_input + '\\n')\n",
    "process.stdin.flush()\n",
    "\n",
    "# Wait for the process to complete\n",
    "process.wait()\n",
    "output_thread.join()\n",
    "\n",
    "# Capture any remaining output\n",
    "stderr = process.stderr.read()\n",
    "stdout = process.stdout.read()\n",
    "\n",
    "print(stdout)\n",
    "print(stderr)\n"
   ]
  },
  {
   "cell_type": "code",
   "execution_count": 2,
   "id": "0bd0a66b-c51a-4328-9976-86a99cc58ab9",
   "metadata": {},
   "outputs": [
    {
     "ename": "SyntaxError",
     "evalue": "unterminated string literal (detected at line 5) (3289533541.py, line 5)",
     "output_type": "error",
     "traceback": [
      "\u001b[1;36m  Cell \u001b[1;32mIn[2], line 5\u001b[1;36m\u001b[0m\n\u001b[1;33m    ''''\u001b[0m\n\u001b[1;37m       ^\u001b[0m\n\u001b[1;31mSyntaxError\u001b[0m\u001b[1;31m:\u001b[0m unterminated string literal (detected at line 5)\n"
     ]
    }
   ],
   "source": [
    "#Already runs above but if needed can run in terminal yolov9\n",
    "# Ensure to enable Developer Mode to run this\n",
    "'''\n",
    "python C:\\Users\\iGauze\\coco2yolo/coco2yolo -ann-path \"C:\\Users\\iGauze\\Desktop\\Victor_Testing\\DATA\\Withhand\\ExtraHands\\annotations\\OUTPUT_JSON.json\" -img-dir \"C:\\Users\\iGauze\\Desktop\\Victor_Testing\\DATA\\Withhand\\ExtraHands\\images\"\n",
    "'''"
   ]
  },
  {
   "cell_type": "code",
   "execution_count": 4,
   "id": "03caca74-ad0a-4fc3-87c4-24ae5283c500",
   "metadata": {},
   "outputs": [
    {
     "name": "stdout",
     "output_type": "stream",
     "text": [
      "\n",
      "Train size:6693,Validation size:1912,Test size :956\n",
      "\n",
      "{'train': 6693, 'val': 1912, 'test': 956, 'cls_names': {0, 1}, 'errors': 0}\n"
     ]
    }
   ],
   "source": [
    "# pip install yolosplitter\n",
    "from yolosplitter import YoloSplitter\n",
    "\n",
    "ys = YoloSplitter(imgFormat=['.jpg', '.jpeg', '.png'], labelFormat=['.txt'] )\n",
    "\n",
    "# If you have mixed Images and Labels in the same directory\n",
    "# ratio=(train,val,test) \n",
    "\n",
    "#Change InputDir to where your files are\n",
    "df = ys.from_mixed_dir(input_dir=r\"C:\\Users\\iGauze\\Desktop\\Victor_Testing\\DATA\\Withhand2\",ratio=(0.7,0.2,0.1))"
   ]
  },
  {
   "cell_type": "code",
   "execution_count": 7,
   "id": "df5986e4-249e-4c45-9797-6b2b2414f61f",
   "metadata": {},
   "outputs": [
    {
     "name": "stdout",
     "output_type": "stream",
     "text": [
      "Saving New split in 'C:\\Users\\iGauze\\Desktop\\Victor_Testing\\DATA\\WithhandFinal' dir\n"
     ]
    },
    {
     "name": "stderr",
     "output_type": "stream",
     "text": [
      "100%|██████████████████████████████████████████████████████████████████████████████| 9561/9561 [02:51<00:00, 55.74it/s]\n"
     ]
    }
   ],
   "source": [
    "# To save dataset with  'data.yaml' file\n",
    "\n",
    "# Change output dir to where to set where the files go\n",
    "ys.save_split(output_dir=r\"C:\\Users\\iGauze\\Desktop\\Victor_Testing\\DATA\\WithhandFinal\") "
   ]
  },
  {
   "cell_type": "code",
   "execution_count": null,
   "id": "4df6b568-c158-41e7-870d-955fe5ebacd8",
   "metadata": {},
   "outputs": [],
   "source": []
  }
 ],
 "metadata": {
  "kernelspec": {
   "display_name": "Python 3 (ipykernel)",
   "language": "python",
   "name": "python3"
  },
  "language_info": {
   "codemirror_mode": {
    "name": "ipython",
    "version": 3
   },
   "file_extension": ".py",
   "mimetype": "text/x-python",
   "name": "python",
   "nbconvert_exporter": "python",
   "pygments_lexer": "ipython3",
   "version": "3.11.9"
  }
 },
 "nbformat": 4,
 "nbformat_minor": 5
}
